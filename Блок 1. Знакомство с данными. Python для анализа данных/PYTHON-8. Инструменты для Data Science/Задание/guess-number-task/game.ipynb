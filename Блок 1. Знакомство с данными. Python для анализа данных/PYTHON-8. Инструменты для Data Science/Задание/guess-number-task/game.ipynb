{
 "cells": [
  {
   "cell_type": "markdown",
   "metadata": {},
   "source": [
    "# Игра угадай число"
   ]
  },
  {
   "cell_type": "code",
   "execution_count": 1,
   "metadata": {},
   "outputs": [],
   "source": [
    "from game_v2 import score_game_v2\n",
    "from game_v2 import random_predict\n",
    "from game_v2 import game_core_v2\n",
    "from game_v2 import random_predict_with_correction\n",
    "from game_v2 import binary_tree"
   ]
  },
  {
   "cell_type": "markdown",
   "metadata": {},
   "source": [
    "## Угадываем рандомно"
   ]
  },
  {
   "cell_type": "code",
   "execution_count": 2,
   "metadata": {},
   "outputs": [
    {
     "name": "stdout",
     "output_type": "stream",
     "text": [
      "Алгоритм [random_predict] справился с задачей в среднем за ( 99 ) попыток. Min / Max = 1 / 1273\n",
      "Алгоритм [game_core_v2] справился с задачей в среднем за ( 33 ) попыток. Min / Max = 0 / 99\n",
      "Алгоритм [random_predict_with_correction] справился с задачей в среднем за ( 7 ) попыток. Min / Max = 1 / 20\n",
      "Алгоритм [binary_tree] справился с задачей в среднем за ( 5 ) попыток. Min / Max = 1 / 7\n"
     ]
    }
   ],
   "source": [
    "result = score_game_v2(random_predict, game_core_v2, random_predict_with_correction, binary_tree, tryes_count=100000)\n",
    "for algorythm_name, score, min_, max_ in result:\n",
    "    print(f'Алгоритм [{algorythm_name}] справился с задачей в среднем за ( {score} ) попыток. Min / Max = {min_} / {max_}')"
   ]
  }
 ],
 "metadata": {
  "kernelspec": {
   "display_name": "Python 3",
   "language": "python",
   "name": "python3"
  },
  "language_info": {
   "codemirror_mode": {
    "name": "ipython",
    "version": 3
   },
   "file_extension": ".py",
   "mimetype": "text/x-python",
   "name": "python",
   "nbconvert_exporter": "python",
   "pygments_lexer": "ipython3",
   "version": "3.10.11"
  },
  "orig_nbformat": 4
 },
 "nbformat": 4,
 "nbformat_minor": 2
}
