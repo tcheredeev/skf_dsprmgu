{
 "cells": [
  {
   "cell_type": "markdown",
   "metadata": {},
   "source": [
    "# Дано"
   ]
  },
  {
   "cell_type": "markdown",
   "metadata": {},
   "source": [
    "Имеются две базы данных (два листа Excel-файла): база с ценами конкурентов (Data_Parsing) и внутренняя база компании (Data_Company).\n",
    "\n",
    "В базе парсинга есть два id, однозначно определяющие товар: producer_id и producer_color.\n",
    "\n",
    "В базе компании есть два аналогичных поля: item_id и color_id.\n",
    "\n",
    "Нам известно, что коды в двух базах отличаются наличием набора служебных символов. В базе парсинга встречаются следующие символы: _, -, ~, \\\\, /."
   ]
  },
  {
   "cell_type": "markdown",
   "metadata": {},
   "source": [
    "# Задание"
   ]
  },
  {
   "cell_type": "markdown",
   "metadata": {},
   "source": [
    "- Считать данные из Excel в DataFrame (Data_Parsing) и (Data_Company).  \n",
    "- Подтянуть к базе парсинга данные из базы компании (item_id, color_id, current_price) и сформировать столбец разницы цен в % (цена конкурента к нашей цене).  \n",
    "- Определить сильные отклонения от среднего в разности цен в пределах бренда-категории (то есть убрать случайные выбросы, сильно искажающие сравнение). Критерий — по вкусу, написать комментарий в коде.  \n",
    "- Записать новый файл Excel с базой парсинга, приклееными к ней столбцами из пункта 2 и с учётом пункта 3 (можно добавить столбец outlier и проставить Yes для выбросов).  "
   ]
  },
  {
   "cell_type": "markdown",
   "metadata": {},
   "source": [
    "# Решение"
   ]
  },
  {
   "cell_type": "markdown",
   "metadata": {},
   "source": [
    "#### Импорты"
   ]
  },
  {
   "cell_type": "code",
   "execution_count": 106,
   "metadata": {},
   "outputs": [
    {
     "name": "stdout",
     "output_type": "stream",
     "text": [
      "pd: 2.2.3\n",
      "np: 2.1.2\n",
      "plt: 3.9.2\n",
      "re: 2.2.1\n",
      "sns: 0.13.2\n"
     ]
    }
   ],
   "source": [
    "import pandas as pd\n",
    "import numpy as np\n",
    "import matplotlib\n",
    "import matplotlib.pyplot as plt\n",
    "import re\n",
    "import seaborn as sns\n",
    "\n",
    "print('pd:', pd.__version__)\n",
    "print('np:', np.__version__)\n",
    "print('plt:', matplotlib.__version__)\n",
    "print('re:', re.__version__)\n",
    "print('sns:', sns.__version__)"
   ]
  },
  {
   "cell_type": "markdown",
   "metadata": {},
   "source": [
    "#### Функции"
   ]
  },
  {
   "cell_type": "code",
   "execution_count": 191,
   "metadata": {},
   "outputs": [],
   "source": [
    "def low_information_analize(df: pd.DataFrame, freq: float=0.95) -> list:\n",
    "    \"\"\"\n",
    "    Возвращает список неинформативных признаков и их частоту\n",
    "    \"\"\"\n",
    "    low_information_cols = [] \n",
    "    \n",
    "    # Цикл по всем столбцам\n",
    "    for col in df.columns:\n",
    "        # Наибольшая относительная частота в признаке\n",
    "        top_freq = df[col].value_counts(normalize=True).max()\n",
    "        # Доля уникальных значений от размера признака\n",
    "        nunique_ratio = df[col].nunique() / df[col].count()\n",
    "        # Сравниваем наибольшую частоту с порогом\n",
    "        if top_freq > freq:\n",
    "            low_information_cols.append(col)\n",
    "            print(f'{col}: {round(top_freq * 100, 2)}% одинаковых значений')\n",
    "        # сравниваем долю уникальных значений с порогом\n",
    "        if nunique_ratio > freq:\n",
    "            low_information_cols.append(col)\n",
    "            print(f'{col}: {round(nunique_ratio * 100, 2)}% уникальных значений')\n",
    "            \n",
    "    return low_information_cols\n",
    "\n",
    "def outliers_sigma_mod(data, feature=None, log_scale=False, log_zeroes=False,  left:int=3, right:int=3) -> tuple:\n",
    "    \"\"\"\n",
    "    Возвращает список неинформативных признаков по методу сигм и их частоту\n",
    "\n",
    "    Returns:\n",
    "        - outliers, cleaned\n",
    "    \"\"\"\n",
    "    elements = data[feature] if feature else data\n",
    "    if log_scale:\n",
    "        val: pd.DataFrame = np.log(elements + (1 if log_zeroes else 0)) # +1 нужен для обработки нулевых значений\n",
    "    else:\n",
    "        val: pd.DataFrame = elements\n",
    "    mu = val.mean()\n",
    "    sigma = val.std()\n",
    "    lower_bound = mu - left * sigma\n",
    "    upper_bound = mu + right * sigma\n",
    "    # print(mu, sigma, lower_bound, upper_bound)\n",
    "    outliers = data[(val < lower_bound) | (val > upper_bound)]\n",
    "    cleaned = data[(val >= lower_bound) & (val <= upper_bound)]\n",
    "    return outliers, cleaned\n",
    "\n",
    "def outliers_iqr_mod(data, feature=None, log_scale=False, log_zeroes=False, left=1.5, right=1.5):\n",
    "    \"\"\"\n",
    "    Возвращает список неинформативных признаков по методу Тьюки (межквартильный размах]) и их частоту\n",
    "    \"\"\"\n",
    "    elements = data[feature] if feature else data\n",
    "    if log_scale:\n",
    "        val = np.log(elements + (0 if not log_zeroes else 1))\n",
    "    else:\n",
    "        val = elements\n",
    "    quartile_1, quartile_3 = val.quantile(0.25), val.quantile(0.75),\n",
    "    iqr = quartile_3 - quartile_1\n",
    "    lower_bound = quartile_1 - (iqr * left)\n",
    "    upper_bound = quartile_3 + (iqr * right)\n",
    "    outliers = data[(val < lower_bound) | (val > upper_bound)]\n",
    "    cleaned = data[(val >= lower_bound) & (val <= upper_bound)]\n",
    "    return outliers, cleaned\n",
    "\n",
    "def df_col_is_string(x): \n",
    "    \"\"\"\n",
    "    Функция роверяет, что значение x - строка\n",
    "        На данный момент только методом isinstance\n",
    "    \"\"\"    \n",
    "    return isinstance(x, str)\n",
    "\n",
    "def mark_outliers(data: pd.DataFrame, outliers: pd.DataFrame):\n",
    "    # display(data)\n",
    "    # display(outliers)\n",
    "    idx = list(outliers.index.values)\n",
    "    # print(idx)\n",
    "    # result = data.drop(idx)\n",
    "    data.loc[idx, ['outlier']] = 'Yes'\n",
    "    # display(result)\n",
    "    return data\n"
   ]
  },
  {
   "cell_type": "markdown",
   "metadata": {},
   "source": [
    "#### Подготовка данных"
   ]
  },
  {
   "cell_type": "code",
   "execution_count": 108,
   "metadata": {},
   "outputs": [
    {
     "name": "stdout",
     "output_type": "stream",
     "text": [
      "producer_id: 100.0% уникальных значений\n",
      "diff: 100.0% уникальных значений\n",
      "['producer_id', 'diff']\n"
     ]
    },
    {
     "data": {
      "text/html": [
       "<div>\n",
       "<style scoped>\n",
       "    .dataframe tbody tr th:only-of-type {\n",
       "        vertical-align: middle;\n",
       "    }\n",
       "\n",
       "    .dataframe tbody tr th {\n",
       "        vertical-align: top;\n",
       "    }\n",
       "\n",
       "    .dataframe thead th {\n",
       "        text-align: right;\n",
       "    }\n",
       "</style>\n",
       "<table border=\"1\" class=\"dataframe\">\n",
       "  <thead>\n",
       "    <tr style=\"text-align: right;\">\n",
       "      <th></th>\n",
       "      <th>brand</th>\n",
       "      <th>Category</th>\n",
       "      <th>producer_id</th>\n",
       "      <th>producer_color</th>\n",
       "      <th>price</th>\n",
       "      <th>current price</th>\n",
       "      <th>diff</th>\n",
       "    </tr>\n",
       "  </thead>\n",
       "  <tbody>\n",
       "    <tr>\n",
       "      <th>0</th>\n",
       "      <td>Valentino</td>\n",
       "      <td>Shoes</td>\n",
       "      <td>aaaaa111111</td>\n",
       "      <td>black</td>\n",
       "      <td>167</td>\n",
       "      <td>247</td>\n",
       "      <td>147.904192</td>\n",
       "    </tr>\n",
       "    <tr>\n",
       "      <th>1</th>\n",
       "      <td>Valentino</td>\n",
       "      <td>Shoes</td>\n",
       "      <td>aaaaa111112</td>\n",
       "      <td>black</td>\n",
       "      <td>188</td>\n",
       "      <td>161</td>\n",
       "      <td>85.638298</td>\n",
       "    </tr>\n",
       "    <tr>\n",
       "      <th>2</th>\n",
       "      <td>Valentino</td>\n",
       "      <td>Shoes</td>\n",
       "      <td>aaaaa111113</td>\n",
       "      <td>black</td>\n",
       "      <td>184</td>\n",
       "      <td>234</td>\n",
       "      <td>127.173913</td>\n",
       "    </tr>\n",
       "  </tbody>\n",
       "</table>\n",
       "</div>"
      ],
      "text/plain": [
       "       brand Category  producer_id producer_color  price  current price  \\\n",
       "0  Valentino    Shoes  aaaaa111111          black    167            247   \n",
       "1  Valentino    Shoes  aaaaa111112          black    188            161   \n",
       "2  Valentino    Shoes  aaaaa111113          black    184            234   \n",
       "\n",
       "         diff  \n",
       "0  147.904192  \n",
       "1   85.638298  \n",
       "2  127.173913  "
      ]
     },
     "metadata": {},
     "output_type": "display_data"
    },
    {
     "name": "stdout",
     "output_type": "stream",
     "text": [
      "<class 'pandas.core.frame.DataFrame'>\n",
      "RangeIndex: 75 entries, 0 to 74\n",
      "Data columns (total 7 columns):\n",
      " #   Column          Non-Null Count  Dtype   \n",
      "---  ------          --------------  -----   \n",
      " 0   brand           75 non-null     category\n",
      " 1   Category        75 non-null     category\n",
      " 2   producer_id     75 non-null     object  \n",
      " 3   producer_color  75 non-null     object  \n",
      " 4   price           75 non-null     int64   \n",
      " 5   current price   75 non-null     int64   \n",
      " 6   diff            75 non-null     float64 \n",
      "dtypes: category(2), float64(1), int64(2), object(2)\n",
      "memory usage: 3.5+ KB\n"
     ]
    },
    {
     "data": {
      "text/plain": [
       "None"
      ]
     },
     "metadata": {},
     "output_type": "display_data"
    }
   ],
   "source": [
    "\n",
    "data_company = pd.read_excel('data/Data_TSUM.xlsx', sheet_name='Data_Company');\n",
    "data_parsed = pd.read_excel('data/Data_TSUM.xlsx', sheet_name='Data_Parsing');\n",
    "\n",
    "data_parsed_replacement_mask = r'[_\\-\\~\\\\/]+'\n",
    "\n",
    "cols = data_parsed.columns\n",
    "for col in cols:\n",
    "    is_string_series = data_parsed[col].apply(df_col_is_string)\n",
    "    if(True in set(is_string_series)):\n",
    "        data_parsed[col] = data_parsed[col].apply(lambda el: re.sub(data_parsed_replacement_mask, '', el))\n",
    "\n",
    "cols_to_use = data_company.columns.difference(data_parsed.columns)\n",
    "data_merged = data_parsed.merge(\n",
    "    data_company[cols_to_use], \n",
    "    left_on=['producer_id', 'producer_color'],\n",
    "    right_on=['item_id', 'color_id'],\n",
    "\n",
    ").drop(['item_id','color_id'], axis=1).reindex()\n",
    "\n",
    "data_merged['brand'] = data_merged['brand'].astype('category')\n",
    "data_merged['Category'] = data_merged['Category'].astype('category')\n",
    "data_merged['diff'] = data_merged['current price'] * 100 / data_merged['price']\n",
    "# data_merged['diff'] = round(data_merged['current price'] * 100 / data_merged['price'], 0)\n",
    "\n",
    "low_information_cols = low_information_analize(data_merged)\n",
    "print(low_information_cols)\n",
    "\n",
    "display(data_merged.head(3))\n",
    "display(data_merged.info())"
   ]
  },
  {
   "cell_type": "markdown",
   "metadata": {},
   "source": [
    "Игнорируем данные по признаку producer_id и producer_color так как это совокупный уникальный идентификатор товара"
   ]
  },
  {
   "cell_type": "markdown",
   "metadata": {},
   "source": [
    "#### Анализ"
   ]
  },
  {
   "cell_type": "code",
   "execution_count": 109,
   "metadata": {},
   "outputs": [
    {
     "data": {
      "text/plain": [
       "count     75.000000\n",
       "mean     105.211842\n",
       "std       29.495870\n",
       "min       59.375000\n",
       "25%       84.807692\n",
       "50%      103.846154\n",
       "75%      123.255263\n",
       "max      172.352941\n",
       "Name: diff, dtype: float64"
      ]
     },
     "execution_count": 109,
     "metadata": {},
     "output_type": "execute_result"
    }
   ],
   "source": [
    "data_merged['diff'].describe()"
   ]
  },
  {
   "cell_type": "markdown",
   "metadata": {},
   "source": [
    "По общему описанию признака 'diff' особых аномалий не обнаруживается"
   ]
  },
  {
   "cell_type": "markdown",
   "metadata": {},
   "source": [
    "Работаем жостко.  \n",
    "Будем искать выбросы по стандартным медодам Тьюки (1.5) и сигм (3.0). Всё что попадёт в их комбинированные выбросы - выкидываем."
   ]
  },
  {
   "cell_type": "code",
   "execution_count": 198,
   "metadata": {},
   "outputs": [
    {
     "name": "stdout",
     "output_type": "stream",
     "text": [
      "Brioni > Bags\n",
      "min: 61, mean: 102, max: 156\n",
      "Нет выбросов\n",
      "Brioni > Shoes\n",
      "min: 61, mean: 101, max: 151\n",
      "Выбросы\n"
     ]
    },
    {
     "data": {
      "text/html": [
       "<div>\n",
       "<style scoped>\n",
       "    .dataframe tbody tr th:only-of-type {\n",
       "        vertical-align: middle;\n",
       "    }\n",
       "\n",
       "    .dataframe tbody tr th {\n",
       "        vertical-align: top;\n",
       "    }\n",
       "\n",
       "    .dataframe thead th {\n",
       "        text-align: right;\n",
       "    }\n",
       "</style>\n",
       "<table border=\"1\" class=\"dataframe\">\n",
       "  <thead>\n",
       "    <tr style=\"text-align: right;\">\n",
       "      <th></th>\n",
       "      <th>brand</th>\n",
       "      <th>Category</th>\n",
       "      <th>producer_id</th>\n",
       "      <th>producer_color</th>\n",
       "      <th>price</th>\n",
       "      <th>current price</th>\n",
       "      <th>diff</th>\n",
       "      <th>outlier</th>\n",
       "    </tr>\n",
       "  </thead>\n",
       "  <tbody>\n",
       "    <tr>\n",
       "      <th>30</th>\n",
       "      <td>Brioni</td>\n",
       "      <td>Shoes</td>\n",
       "      <td>bbbbb111116</td>\n",
       "      <td>black</td>\n",
       "      <td>190</td>\n",
       "      <td>283</td>\n",
       "      <td>148.947368</td>\n",
       "      <td>Yes</td>\n",
       "    </tr>\n",
       "    <tr>\n",
       "      <th>32</th>\n",
       "      <td>Brioni</td>\n",
       "      <td>Shoes</td>\n",
       "      <td>bbbbb111118</td>\n",
       "      <td>white</td>\n",
       "      <td>165</td>\n",
       "      <td>235</td>\n",
       "      <td>142.424242</td>\n",
       "      <td>Yes</td>\n",
       "    </tr>\n",
       "    <tr>\n",
       "      <th>34</th>\n",
       "      <td>Brioni</td>\n",
       "      <td>Shoes</td>\n",
       "      <td>bbbbb111120</td>\n",
       "      <td>white</td>\n",
       "      <td>169</td>\n",
       "      <td>256</td>\n",
       "      <td>151.479290</td>\n",
       "      <td>Yes</td>\n",
       "    </tr>\n",
       "  </tbody>\n",
       "</table>\n",
       "</div>"
      ],
      "text/plain": [
       "     brand Category  producer_id producer_color  price  current price  \\\n",
       "30  Brioni    Shoes  bbbbb111116          black    190            283   \n",
       "32  Brioni    Shoes  bbbbb111118          white    165            235   \n",
       "34  Brioni    Shoes  bbbbb111120          white    169            256   \n",
       "\n",
       "          diff outlier  \n",
       "30  148.947368     Yes  \n",
       "32  142.424242     Yes  \n",
       "34  151.479290     Yes  "
      ]
     },
     "metadata": {},
     "output_type": "display_data"
    },
    {
     "data": {
      "image/png": "[encoded data removed]",
      "text/plain": [
       "<Figure size 600x300 with 2 Axes>"
      ]
     },
     "metadata": {},
     "output_type": "display_data"
    },
    {
     "name": "stdout",
     "output_type": "stream",
     "text": [
      "Stone Island > Bags\n",
      "min: 62, mean: 106, max: 146\n",
      "Нет выбросов\n",
      "Stone Island > Shoes\n",
      "min: 64, mean: 102, max: 145\n",
      "Нет выбросов\n"
     ]
    },
    {
     "data": {
      "image/png": "[encoded data removed]",
      "text/plain": [
       "<Figure size 600x300 with 2 Axes>"
      ]
     },
     "metadata": {},
     "output_type": "display_data"
    },
    {
     "name": "stdout",
     "output_type": "stream",
     "text": [
      "Valentino > Bags\n",
      "min: 68, mean: 106, max: 172\n",
      "Выбросы\n"
     ]
    },
    {
     "data": {
      "text/html": [
       "<div>\n",
       "<style scoped>\n",
       "    .dataframe tbody tr th:only-of-type {\n",
       "        vertical-align: middle;\n",
       "    }\n",
       "\n",
       "    .dataframe tbody tr th {\n",
       "        vertical-align: top;\n",
       "    }\n",
       "\n",
       "    .dataframe thead th {\n",
       "        text-align: right;\n",
       "    }\n",
       "</style>\n",
       "<table border=\"1\" class=\"dataframe\">\n",
       "  <thead>\n",
       "    <tr style=\"text-align: right;\">\n",
       "      <th></th>\n",
       "      <th>brand</th>\n",
       "      <th>Category</th>\n",
       "      <th>producer_id</th>\n",
       "      <th>producer_color</th>\n",
       "      <th>price</th>\n",
       "      <th>current price</th>\n",
       "      <th>diff</th>\n",
       "      <th>outlier</th>\n",
       "    </tr>\n",
       "  </thead>\n",
       "  <tbody>\n",
       "    <tr>\n",
       "      <th>19</th>\n",
       "      <td>Valentino</td>\n",
       "      <td>Bags</td>\n",
       "      <td>aaaaa111130</td>\n",
       "      <td>red</td>\n",
       "      <td>173</td>\n",
       "      <td>287</td>\n",
       "      <td>165.895954</td>\n",
       "      <td>Yes</td>\n",
       "    </tr>\n",
       "    <tr>\n",
       "      <th>21</th>\n",
       "      <td>Valentino</td>\n",
       "      <td>Bags</td>\n",
       "      <td>aaaaa111132</td>\n",
       "      <td>red</td>\n",
       "      <td>170</td>\n",
       "      <td>293</td>\n",
       "      <td>172.352941</td>\n",
       "      <td>Yes</td>\n",
       "    </tr>\n",
       "  </tbody>\n",
       "</table>\n",
       "</div>"
      ],
      "text/plain": [
       "        brand Category  producer_id producer_color  price  current price  \\\n",
       "19  Valentino     Bags  aaaaa111130            red    173            287   \n",
       "21  Valentino     Bags  aaaaa111132            red    170            293   \n",
       "\n",
       "          diff outlier  \n",
       "19  165.895954     Yes  \n",
       "21  172.352941     Yes  "
      ]
     },
     "metadata": {},
     "output_type": "display_data"
    },
    {
     "name": "stdout",
     "output_type": "stream",
     "text": [
      "Valentino > Shoes\n",
      "min: 59, mean: 111, max: 170\n",
      "Нет выбросов\n"
     ]
    },
    {
     "data": {
      "image/png": "[encoded data removed]",
      "text/plain": [
       "<Figure size 600x300 with 2 Axes>"
      ]
     },
     "metadata": {},
     "output_type": "display_data"
    },
    {
     "data": {
      "text/html": [
       "<div>\n",
       "<style scoped>\n",
       "    .dataframe tbody tr th:only-of-type {\n",
       "        vertical-align: middle;\n",
       "    }\n",
       "\n",
       "    .dataframe tbody tr th {\n",
       "        vertical-align: top;\n",
       "    }\n",
       "\n",
       "    .dataframe thead th {\n",
       "        text-align: right;\n",
       "    }\n",
       "</style>\n",
       "<table border=\"1\" class=\"dataframe\">\n",
       "  <thead>\n",
       "    <tr style=\"text-align: right;\">\n",
       "      <th></th>\n",
       "      <th>brand</th>\n",
       "      <th>Category</th>\n",
       "      <th>producer_id</th>\n",
       "      <th>producer_color</th>\n",
       "      <th>price</th>\n",
       "      <th>current price</th>\n",
       "      <th>diff</th>\n",
       "      <th>outlier</th>\n",
       "    </tr>\n",
       "  </thead>\n",
       "  <tbody>\n",
       "    <tr>\n",
       "      <th>19</th>\n",
       "      <td>Valentino</td>\n",
       "      <td>Bags</td>\n",
       "      <td>aaaaa111130</td>\n",
       "      <td>red</td>\n",
       "      <td>173</td>\n",
       "      <td>287</td>\n",
       "      <td>165.895954</td>\n",
       "      <td>Yes</td>\n",
       "    </tr>\n",
       "    <tr>\n",
       "      <th>21</th>\n",
       "      <td>Valentino</td>\n",
       "      <td>Bags</td>\n",
       "      <td>aaaaa111132</td>\n",
       "      <td>red</td>\n",
       "      <td>170</td>\n",
       "      <td>293</td>\n",
       "      <td>172.352941</td>\n",
       "      <td>Yes</td>\n",
       "    </tr>\n",
       "    <tr>\n",
       "      <th>30</th>\n",
       "      <td>Brioni</td>\n",
       "      <td>Shoes</td>\n",
       "      <td>bbbbb111116</td>\n",
       "      <td>black</td>\n",
       "      <td>190</td>\n",
       "      <td>283</td>\n",
       "      <td>148.947368</td>\n",
       "      <td>Yes</td>\n",
       "    </tr>\n",
       "    <tr>\n",
       "      <th>32</th>\n",
       "      <td>Brioni</td>\n",
       "      <td>Shoes</td>\n",
       "      <td>bbbbb111118</td>\n",
       "      <td>white</td>\n",
       "      <td>165</td>\n",
       "      <td>235</td>\n",
       "      <td>142.424242</td>\n",
       "      <td>Yes</td>\n",
       "    </tr>\n",
       "    <tr>\n",
       "      <th>34</th>\n",
       "      <td>Brioni</td>\n",
       "      <td>Shoes</td>\n",
       "      <td>bbbbb111120</td>\n",
       "      <td>white</td>\n",
       "      <td>169</td>\n",
       "      <td>256</td>\n",
       "      <td>151.479290</td>\n",
       "      <td>Yes</td>\n",
       "    </tr>\n",
       "  </tbody>\n",
       "</table>\n",
       "</div>"
      ],
      "text/plain": [
       "        brand Category  producer_id producer_color  price  current price  \\\n",
       "19  Valentino     Bags  aaaaa111130            red    173            287   \n",
       "21  Valentino     Bags  aaaaa111132            red    170            293   \n",
       "30     Brioni    Shoes  bbbbb111116          black    190            283   \n",
       "32     Brioni    Shoes  bbbbb111118          white    165            235   \n",
       "34     Brioni    Shoes  bbbbb111120          white    169            256   \n",
       "\n",
       "          diff outlier  \n",
       "19  165.895954     Yes  \n",
       "21  172.352941     Yes  \n",
       "30  148.947368     Yes  \n",
       "32  142.424242     Yes  \n",
       "34  151.479290     Yes  "
      ]
     },
     "metadata": {},
     "output_type": "display_data"
    }
   ],
   "source": [
    "data_with_outliers_marked = data_merged.copy()\n",
    "\n",
    "data_groupped_brand = data_with_outliers_marked.groupby(['brand',], observed=False)\n",
    "data_groupped_brand_cat = data_with_outliers_marked.groupby(['brand','Category'], observed=False)\n",
    "\n",
    "for brand in data_groupped_brand.groups.keys():\n",
    "    # print(brand)\n",
    "    category_data = data_groupped_brand.get_group((brand,)).groupby(['Category'], observed=False)\n",
    "    plot_cols = len(category_data.groups.keys())\n",
    "    plot_idx = -1\n",
    "    figure, axes = plt.subplots(nrows=1, ncols=plot_cols, figsize=(3 * plot_cols, 3))\n",
    "    figure.suptitle(f'{brand}\\nblue-mean, green - irq, red - sigmas')\n",
    "    plt.subplots_adjust(top=0.7, bottom=0, wspace=0.3, hspace=0.4)\n",
    "    for category in category_data.groups.keys():\n",
    "        plot_idx += 1\n",
    "        print(f'{brand} > {category}')\n",
    "\n",
    "        elements = data_groupped_brand_cat.get_group((brand, category))\n",
    "        # display(elements)\n",
    "        print(f'min: {int(elements[\"diff\"].min())}, mean: {int(elements[\"diff\"].mean())}, max: {int(elements[\"diff\"].max())}')\n",
    "\n",
    "        plot = elements['diff'].plot(\n",
    "            kind='hist', \n",
    "            bins=30,\n",
    "            title=f'{category} ({len(elements)})',\n",
    "            # x='diff',\n",
    "            ax=axes[plot_idx],\n",
    "            color='teal',\n",
    "            grid=True,\n",
    "            xlabel='Разница',\n",
    "            ylabel='Частота',\n",
    "            legend=False, \n",
    "        )\n",
    "\n",
    "        left_irq, right_irq = 1.5, 1.5\n",
    "        left_sigma, right_sigma = 3, 3\n",
    "        quartile_1, quartile_3 = elements['diff'].quantile(0.25), elements['diff'].quantile(0.75),\n",
    "        iqr = quartile_3 - quartile_1\n",
    "        lower_bound = quartile_1 - (iqr * left_irq)\n",
    "        upper_bound = quartile_3 + (iqr * right_irq)\n",
    "        plot.axvline(elements['diff'].mean(), color='b', lw=2)\n",
    "        # Limits for irq method\n",
    "        plot.axvline(lower_bound, color='g', ls='--', lw=2)\n",
    "        plot.axvline(upper_bound, color='g', ls='--', lw=2)\n",
    "        # Limits for 3-sigmas method\n",
    "        plot.axvline(elements['diff'].mean() + right_sigma * elements['diff'].std(), color='r', ls='--', lw=2)\n",
    "        plot.axvline(elements['diff'].mean() - left_sigma * elements['diff'].std(), color='r', ls='--', lw=2)\n",
    "\n",
    "        outliers_irq, cleaned_irq = outliers_iqr_mod(elements, 'diff')\n",
    "        outliers_sigma, cleaned_sigma = outliers_sigma_mod(elements, 'diff')\n",
    "        if(len(outliers_irq) or len(outliers_sigma)):\n",
    "            print('Выбросы')\n",
    "            if(len(outliers_irq)):\n",
    "                display(outliers_irq)\n",
    "                data_with_outliers_marked = mark_outliers(data_with_outliers_marked, outliers_irq)\n",
    "                # display(data_with_outliers_marked.loc[28:36])\n",
    "            if(len(outliers_sigma)):\n",
    "                display(outliers_sigma)\n",
    "        else:\n",
    "            print('Нет выбросов')\n",
    "\n",
    "    plt.show()\n",
    "\n",
    "\n",
    "display(data_with_outliers_marked[data_with_outliers_marked['outlier'] == 'Yes'])"
   ]
  },
  {
   "cell_type": "markdown",
   "metadata": {},
   "source": [
    "Выбросы найдены и промаркированы. Теперь сохраняем все в новый эксель"
   ]
  },
  {
   "cell_type": "code",
   "execution_count": 199,
   "metadata": {},
   "outputs": [],
   "source": [
    "data_with_outliers_marked.to_excel('data/Data_TSUM_final.xlsx')"
   ]
  }
 ],
 "metadata": {
  "kernelspec": {
   "display_name": "Python 3",
   "language": "python",
   "name": "python3"
  },
  "language_info": {
   "codemirror_mode": {
    "name": "ipython",
    "version": 3
   },
   "file_extension": ".py",
   "mimetype": "text/x-python",
   "name": "python",
   "nbconvert_exporter": "python",
   "pygments_lexer": "ipython3",
   "version": "3.10.11"
  }
 },
 "nbformat": 4,
 "nbformat_minor": 2
}
