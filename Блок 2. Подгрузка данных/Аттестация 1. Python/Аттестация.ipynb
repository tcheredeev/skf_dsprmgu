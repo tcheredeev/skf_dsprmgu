{
 "cells": [
  {
   "cell_type": "markdown",
   "metadata": {},
   "source": [
    "## Задания"
   ]
  },
  {
   "cell_type": "markdown",
   "metadata": {},
   "source": [
    "### Задание 2.1"
   ]
  },
  {
   "cell_type": "markdown",
   "metadata": {},
   "source": [
    "Вам предоставлен словарь products, ключами которого являются названия продуктов, а значениями — их цены. Затем к вам приходит другой словарь (stocks), ключи которого — товары, а значения — скидки (в процентах) на товары.\n",
    "\n",
    "Напишите функцию apply_discounts(products, stocks), которая снижает цену продуктов в словаре products на указанный в словаре stocks процент. Функция должна вернуть результирующий словарь, ключи которого — товары, а значения — новые цены. Если продукта из словаря stocks нет в словаре products, то его необходимо пропустить. Цены округлите до второго знака после запятой.\n",
    "\n",
    "Пример работы программы:"
   ]
  },
  {
   "cell_type": "code",
   "execution_count": 3,
   "metadata": {},
   "outputs": [],
   "source": [
    "def apply_discounts(products, stocks):\n",
    "    for name, price in products.items():\n",
    "        discount = stocks.get(name)\n",
    "        if discount:\n",
    "            print(discount[0:-1])\n",
    "            products[name] = round( products[name] * (100 - int(discount[0:-1])) / 100, 2)\n",
    "    return products"
   ]
  },
  {
   "cell_type": "code",
   "execution_count": 4,
   "metadata": {},
   "outputs": [
    {
     "name": "stdout",
     "output_type": "stream",
     "text": [
      "33\n",
      "12\n",
      "18\n",
      "{'Oranges (packaged)': 114.99, 'Candy (Rotfront)': 280.0, 'Boiled sausage': 133.99, 'Juice J7 (orange)': 105.59, 'Trout (Seven Seas)': 327.99}\n"
     ]
    }
   ],
   "source": [
    "products = {'Oranges (packaged)': 114.99, 'Candy (Rotfront)': 280.0, 'Boiled sausage': 199.99, 'Juice J7 (orange)': 119.99, 'Trout (Seven Seas)': 399.99}\n",
    "stocks = {'Boiled sausage': '33%', 'Juice J7 (orange)': '12%', 'Trout (Seven Seas)': '18%'}\n",
    "\n",
    "print(apply_discounts(products, stocks))\n",
    "\n",
    "## {'Oranges (packaged)': 114.99, 'Candy (Rotfront)': 280.0, 'Boiled sausage': 133.99, \n",
    "# 'Juice J7 (orange)': 105.59, 'Trout (Seven Seas)': 327.99}\n"
   ]
  },
  {
   "cell_type": "markdown",
   "metadata": {},
   "source": [
    "### Задание 2.2"
   ]
  },
  {
   "cell_type": "markdown",
   "metadata": {},
   "source": [
    "Вам даны два файла bronze_top.csv и silver_top.csv, в которых хранится информация о ТОП-5 стран по числу бронзовых и серебряных медалей соответственно. В каждой таблице два одинаковых столбца: Country — страна и Total — число медалей.\n",
    "\n",
    "Создайте два DataFrame на основе заданных csv-файлов. Объедините таблицы по странам таким образом, чтобы в результат вошли данные только о тех странах, которые попали в оба рейтинга. При этом в качестве суффиксов укажите строки \"_bronze\" и \"_silver\", чтобы столбцы таблиц, не участвовавших в объединении, можно было различать.\n",
    "\n",
    "Результирующий DataFrame занесите в переменную merged. В нём должны быть следующие столбцы:\n",
    "\n",
    "Country\n",
    "Total_bronze\n",
    "Total_silver\n",
    "Не забудьте добавить в свой код импорт библиотеки pandas.\n",
    "\n",
    "Также обратите внимание, что для отправки решения на проверку выводить результат на экран не нужно."
   ]
  },
  {
   "cell_type": "code",
   "execution_count": null,
   "metadata": {},
   "outputs": [],
   "source": [
    "import pandas as pd\n",
    "\n",
    "bronze_df = pd.read_csv('bronze_top.csv')\n",
    "silver_df = pd.read_csv('silver_top.csv')\n",
    "\n",
    "# print(bronze_df)\n",
    "# print(silver_df)\n",
    "\n",
    "merged = pd.merge(left=bronze_df, right=silver_df, how='inner', on='Country', suffixes=['_bronze', '_silver'] )\n",
    "\n",
    "# print(merged)"
   ]
  },
  {
   "cell_type": "markdown",
   "metadata": {},
   "source": [
    "## 3. Практические задания в Jupyter Notebook"
   ]
  },
  {
   "cell_type": "code",
   "execution_count": 35,
   "metadata": {},
   "outputs": [
    {
     "data": {
      "text/html": [
       "<div>\n",
       "<style scoped>\n",
       "    .dataframe tbody tr th:only-of-type {\n",
       "        vertical-align: middle;\n",
       "    }\n",
       "\n",
       "    .dataframe tbody tr th {\n",
       "        vertical-align: top;\n",
       "    }\n",
       "\n",
       "    .dataframe thead th {\n",
       "        text-align: right;\n",
       "    }\n",
       "</style>\n",
       "<table border=\"1\" class=\"dataframe\">\n",
       "  <thead>\n",
       "    <tr style=\"text-align: right;\">\n",
       "      <th></th>\n",
       "      <th>date</th>\n",
       "      <th>cum_power</th>\n",
       "    </tr>\n",
       "  </thead>\n",
       "  <tbody>\n",
       "    <tr>\n",
       "      <th>0</th>\n",
       "      <td>2017-01-01</td>\n",
       "      <td>20111.0</td>\n",
       "    </tr>\n",
       "    <tr>\n",
       "      <th>1</th>\n",
       "      <td>2017-01-02</td>\n",
       "      <td>20112.0</td>\n",
       "    </tr>\n",
       "    <tr>\n",
       "      <th>2</th>\n",
       "      <td>2017-01-03</td>\n",
       "      <td>20115.0</td>\n",
       "    </tr>\n",
       "    <tr>\n",
       "      <th>3</th>\n",
       "      <td>2017-01-04</td>\n",
       "      <td>20117.0</td>\n",
       "    </tr>\n",
       "    <tr>\n",
       "      <th>4</th>\n",
       "      <td>2017-01-05</td>\n",
       "      <td>20119.0</td>\n",
       "    </tr>\n",
       "  </tbody>\n",
       "</table>\n",
       "</div>"
      ],
      "text/plain": [
       "         date  cum_power\n",
       "0  2017-01-01    20111.0\n",
       "1  2017-01-02    20112.0\n",
       "2  2017-01-03    20115.0\n",
       "3  2017-01-04    20117.0\n",
       "4  2017-01-05    20119.0"
      ]
     },
     "execution_count": 35,
     "metadata": {},
     "output_type": "execute_result"
    }
   ],
   "source": [
    "import pandas as pd\n",
    "import numpy as np\n",
    "\n",
    "solar_data = pd.read_csv('data/solarpower.zip')\n",
    "solar_data.head()\n"
   ]
  },
  {
   "cell_type": "code",
   "execution_count": 36,
   "metadata": {},
   "outputs": [
    {
     "name": "stdout",
     "output_type": "stream",
     "text": [
      "<class 'pandas.core.frame.DataFrame'>\n",
      "RangeIndex: 664 entries, 0 to 663\n",
      "Data columns (total 2 columns):\n",
      " #   Column     Non-Null Count  Dtype  \n",
      "---  ------     --------------  -----  \n",
      " 0   date       664 non-null    object \n",
      " 1   cum_power  664 non-null    float64\n",
      "dtypes: float64(1), object(1)\n",
      "memory usage: 10.5+ KB\n"
     ]
    }
   ],
   "source": [
    "solar_data.info()\n"
   ]
  },
  {
   "cell_type": "code",
   "execution_count": 37,
   "metadata": {},
   "outputs": [
    {
     "name": "stdout",
     "output_type": "stream",
     "text": [
      "<class 'pandas.core.frame.DataFrame'>\n",
      "RangeIndex: 664 entries, 0 to 663\n",
      "Data columns (total 2 columns):\n",
      " #   Column     Non-Null Count  Dtype         \n",
      "---  ------     --------------  -----         \n",
      " 0   date       664 non-null    datetime64[ns]\n",
      " 1   cum_power  664 non-null    float64       \n",
      "dtypes: datetime64[ns](1), float64(1)\n",
      "memory usage: 10.5 KB\n"
     ]
    }
   ],
   "source": [
    "solar_data['date'] = pd.to_datetime(solar_data['date'])\n",
    "solar_data.info()"
   ]
  },
  {
   "cell_type": "code",
   "execution_count": 38,
   "metadata": {},
   "outputs": [
    {
     "data": {
      "text/html": [
       "<div>\n",
       "<style scoped>\n",
       "    .dataframe tbody tr th:only-of-type {\n",
       "        vertical-align: middle;\n",
       "    }\n",
       "\n",
       "    .dataframe tbody tr th {\n",
       "        vertical-align: top;\n",
       "    }\n",
       "\n",
       "    .dataframe thead th {\n",
       "        text-align: right;\n",
       "    }\n",
       "</style>\n",
       "<table border=\"1\" class=\"dataframe\">\n",
       "  <thead>\n",
       "    <tr style=\"text-align: right;\">\n",
       "      <th></th>\n",
       "      <th>date</th>\n",
       "      <th>cum_power</th>\n",
       "    </tr>\n",
       "  </thead>\n",
       "  <tbody>\n",
       "    <tr>\n",
       "      <th>45</th>\n",
       "      <td>2017-02-15</td>\n",
       "      <td>-1.0</td>\n",
       "    </tr>\n",
       "    <tr>\n",
       "      <th>647</th>\n",
       "      <td>2018-10-10</td>\n",
       "      <td>-1.0</td>\n",
       "    </tr>\n",
       "  </tbody>\n",
       "</table>\n",
       "</div>"
      ],
      "text/plain": [
       "          date  cum_power\n",
       "45  2017-02-15       -1.0\n",
       "647 2018-10-10       -1.0"
      ]
     },
     "execution_count": 38,
     "metadata": {},
     "output_type": "execute_result"
    }
   ],
   "source": [
    "solar_data[solar_data['cum_power'] == -1]"
   ]
  },
  {
   "cell_type": "code",
   "execution_count": 39,
   "metadata": {},
   "outputs": [
    {
     "name": "stdout",
     "output_type": "stream",
     "text": [
      "Новое значение: 20255.0\n",
      "Новое значение: 27998.0\n"
     ]
    }
   ],
   "source": [
    "\n",
    "for element in solar_data[solar_data['cum_power'] == -1].iterrows():\n",
    "    (id, series) = element\n",
    "    solar_data.at[id, 'cum_power'] = (solar_data.at[id - 1, 'cum_power'] + solar_data.at[id + 1, 'cum_power']) / 2\n",
    "    print('Новое значение:', solar_data.at[id, 'cum_power'])"
   ]
  },
  {
   "cell_type": "code",
   "execution_count": 49,
   "metadata": {},
   "outputs": [
    {
     "data": {
      "text/plain": [
       "date\n",
       "2017-01     3.233333\n",
       "2017-02     3.714286\n",
       "2017-03    10.774194\n",
       "2017-04    16.300000\n",
       "2017-05    19.000000\n",
       "2017-06    21.500000\n",
       "2017-07    18.129032\n",
       "2017-08    15.064516\n",
       "2017-09    11.533333\n",
       "2017-10     6.419355\n",
       "2017-11     3.233333\n",
       "2017-12     1.161290\n",
       "2018-01     2.064516\n",
       "2018-02     6.928571\n",
       "2018-03     8.709677\n",
       "2018-04    14.633333\n",
       "2018-05    21.032258\n",
       "2018-06    18.766667\n",
       "2018-07    22.000000\n",
       "2018-08    17.096774\n",
       "2018-09    13.866667\n",
       "2018-10     9.000000\n",
       "Freq: M, Name: day_power, dtype: float64"
      ]
     },
     "execution_count": 49,
     "metadata": {},
     "output_type": "execute_result"
    }
   ],
   "source": [
    "solar_data['day_power'] = solar_data['cum_power'].diff()\n",
    "\n",
    "solar_data.groupby(solar_data['date'].dt.to_period('M'))['day_power'].mean()\n"
   ]
  },
  {
   "cell_type": "code",
   "execution_count": 58,
   "metadata": {},
   "outputs": [
    {
     "name": "stderr",
     "output_type": "stream",
     "text": [
      "C:\\Users\\voidozer\\AppData\\Local\\Temp\\ipykernel_24044\\2283654172.py:9: FutureWarning:\n",
      "\n",
      "A grouping was used that is not in the columns of the DataFrame and so was excluded from the result. This grouping will be included in a future version of pandas. Add the grouping as a column of the DataFrame to silence this warning.\n",
      "\n"
     ]
    },
    {
     "data": {
      "image/png": "[encoded data removed]",
      "text/plain": [
       "<Figure size 800x400 with 1 Axes>"
      ]
     },
     "metadata": {},
     "output_type": "display_data"
    }
   ],
   "source": [
    "import matplotlib.pyplot as plt\n",
    "\n",
    "df = solar_data.groupby(solar_data['date'].dt.to_period('M'), as_index=False)\n",
    "\n",
    "fig = plt.figure(figsize=(8, 4))\n",
    "axes = fig.add_axes([0, 0, 1, 1])\n",
    "axes.scatter(\n",
    "    x = df['date'].last(), \n",
    "    y = df['day_power'].mean(), \n",
    "    s = 10,\n",
    "    marker='o',\n",
    "    c = 'blue'\n",
    ");"
   ]
  }
 ],
 "metadata": {
  "kernelspec": {
   "display_name": "Python 3",
   "language": "python",
   "name": "python3"
  },
  "language_info": {
   "codemirror_mode": {
    "name": "ipython",
    "version": 3
   },
   "file_extension": ".py",
   "mimetype": "text/x-python",
   "name": "python",
   "nbconvert_exporter": "python",
   "pygments_lexer": "ipython3",
   "version": "3.10.11"
  }
 },
 "nbformat": 4,
 "nbformat_minor": 2
}
